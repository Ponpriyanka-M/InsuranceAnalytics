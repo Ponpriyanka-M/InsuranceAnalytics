{
 "cells": [
  {
   "cell_type": "code",
   "execution_count": 1,
   "id": "03407379",
   "metadata": {},
   "outputs": [
    {
     "name": "stdout",
     "output_type": "stream",
     "text": [
      "✅ insurance_faq.csv with 50 rows created successfully!\n"
     ]
    }
   ],
   "source": [
    "import pandas as pd\n",
    "\n",
    "data = [\n",
    "    (\"What is health insurance?\", \"Health insurance covers medical expenses for illnesses and injuries.\"),\n",
    "    (\"What is a premium?\", \"A premium is the amount you pay regularly to keep your insurance policy active.\"),\n",
    "    (\"What is a deductible?\", \"A deductible is the amount you must pay before your insurance starts covering costs.\"),\n",
    "    (\"What is a co-payment?\", \"A co-payment is a fixed amount you pay for covered services.\"),\n",
    "    (\"How do I file a claim?\", \"You can file a claim online through our portal or by visiting a branch office.\"),\n",
    "    (\"What documents are needed to file a claim?\", \"You need your policy number, medical bills, and ID proof.\"),\n",
    "    (\"How long does claim settlement take?\", \"Claims are usually settled within 7-15 working days.\"),\n",
    "    (\"Can I track my claim status?\", \"Yes, you can track your claim status online with your policy ID.\"),\n",
    "    (\"What is life insurance?\", \"Life insurance provides financial protection to your family after your death.\"),\n",
    "    (\"What is term insurance?\", \"Term insurance provides coverage for a specific period of time.\"),\n",
    "    (\"What is whole life insurance?\", \"Whole life insurance provides lifetime coverage with savings benefits.\"),\n",
    "    (\"Can I change my nominee?\", \"Yes, you can update your nominee details anytime.\"),\n",
    "    (\"What is a cashless claim?\", \"In a cashless claim, the insurer directly pays the hospital bills.\"),\n",
    "    (\"What is a reimbursement claim?\", \"In reimbursement claims, you pay first and later get reimbursed.\"),\n",
    "    (\"Can I buy insurance online?\", \"Yes, you can buy all insurance policies online through our website.\"),\n",
    "    (\"What is travel insurance?\", \"Travel insurance covers trip cancellations, lost luggage, and medical emergencies.\"),\n",
    "    (\"What is motor insurance?\", \"Motor insurance protects your vehicle against accidents, theft, and damage.\"),\n",
    "    (\"What is third-party insurance?\", \"It covers damages caused to another person or their property.\"),\n",
    "    (\"What is comprehensive motor insurance?\", \"It covers your vehicle as well as third-party damages.\"),\n",
    "    (\"Can I renew my policy online?\", \"Yes, policies can be renewed online in just a few clicks.\"),\n",
    "    (\"What happens if I miss a premium payment?\", \"You may get a grace period to pay; otherwise, the policy may lapse.\"),\n",
    "    (\"What is insurance portability?\", \"It allows you to switch from one insurer to another without losing benefits.\"),\n",
    "    (\"What is critical illness insurance?\", \"It provides a lump sum if you are diagnosed with a serious illness.\"),\n",
    "    (\"What is an insurance rider?\", \"A rider is an add-on that provides extra benefits to your base policy.\"),\n",
    "    (\"What is ULIP?\", \"A ULIP is a Unit Linked Insurance Plan combining insurance and investment.\"),\n",
    "    (\"What is policy surrender?\", \"It means ending the policy before maturity and receiving the surrender value.\"),\n",
    "    (\"What is a no-claim bonus?\", \"It is a reward for not making any claims during a policy period.\"),\n",
    "    (\"What is a waiting period?\", \"It is the initial period during which certain claims are not covered.\"),\n",
    "    (\"Can I cancel my policy?\", \"Yes, you can cancel your policy within the free-look period.\"),\n",
    "    (\"What is group insurance?\", \"Group insurance covers multiple members under a single policy.\"),\n",
    "    (\"What is accident insurance?\", \"Accident insurance provides financial cover for accidental injuries.\"),\n",
    "    (\"What is insurance fraud?\", \"It is an illegal act of misrepresenting facts to gain insurance benefits.\"),\n",
    "    (\"How do I check policy status?\", \"You can check it online or contact our customer service.\"),\n",
    "    (\"What is the claim settlement ratio?\", \"It is the percentage of claims settled by the insurer.\"),\n",
    "    (\"Can I have multiple insurance policies?\", \"Yes, you can hold multiple insurance policies.\"),\n",
    "    (\"What is marine insurance?\", \"It covers goods, cargo, and ships against losses at sea.\"),\n",
    "    (\"What is fire insurance?\", \"It provides cover for damages caused by fire.\"),\n",
    "    (\"What is home insurance?\", \"It covers your house against natural and man-made damages.\"),\n",
    "    (\"What is pension insurance?\", \"It ensures regular income after retirement.\"),\n",
    "    (\"What is health policy renewal?\", \"It is the process of extending your health policy after expiry.\"),\n",
    "    (\"What is claim repudiation?\", \"It means your claim has been rejected by the insurer.\"),\n",
    "    (\"What is maternity insurance?\", \"It covers medical expenses related to childbirth.\"),\n",
    "    (\"What is hospitalization cover?\", \"It pays for hospital room charges and medical expenses.\"),\n",
    "    (\"What is the grace period?\", \"It is the extra time given to pay premiums after the due date.\"),\n",
    "    (\"What is an insurance agent?\", \"An insurance agent helps you buy policies and manage claims.\"),\n",
    "    (\"What is an insurance broker?\", \"A broker represents multiple insurers to find the best policy for you.\"),\n",
    "    (\"What is policy maturity?\", \"It is when your policy term ends, and you get benefits.\"),\n",
    "    (\"What is cash value in life insurance?\", \"It is the savings portion of a life insurance policy.\"),\n",
    "    (\"Can I take a loan against insurance?\", \"Yes, many life insurance policies allow loans.\"),\n",
    "    (\"What is reinsurance?\", \"It is insurance for insurance companies to manage large risks.\"),\n",
    "]\n",
    "\n",
    "df = pd.DataFrame(data, columns=[\"question\", \"answer\"])\n",
    "df.to_csv(\"insurance_faq.csv\", index=False)\n",
    "\n",
    "print(\"✅ insurance_faq.csv with 50 rows created successfully!\")\n"
   ]
  },
  {
   "cell_type": "code",
   "execution_count": null,
   "id": "528d941f",
   "metadata": {},
   "outputs": [
    {
     "name": "stdout",
     "output_type": "stream",
     "text": [
      "Collecting sentence-transformers\n",
      "  Downloading sentence_transformers-5.1.0-py3-none-any.whl.metadata (16 kB)\n",
      "Requirement already satisfied: transformers<5.0.0,>=4.41.0 in c:\\users\\admin\\anaconda3\\lib\\site-packages (from sentence-transformers) (4.48.3)\n",
      "Requirement already satisfied: tqdm in c:\\users\\admin\\anaconda3\\lib\\site-packages (from sentence-transformers) (4.66.5)\n",
      "Requirement already satisfied: torch>=1.11.0 in c:\\users\\admin\\anaconda3\\lib\\site-packages (from sentence-transformers) (2.6.0)\n",
      "Requirement already satisfied: scikit-learn in c:\\users\\admin\\anaconda3\\lib\\site-packages (from sentence-transformers) (1.3.0)\n",
      "Requirement already satisfied: scipy in c:\\users\\admin\\anaconda3\\lib\\site-packages (from sentence-transformers) (1.13.1)\n",
      "Requirement already satisfied: huggingface-hub>=0.20.0 in c:\\users\\admin\\anaconda3\\lib\\site-packages (from sentence-transformers) (0.28.1)\n",
      "Requirement already satisfied: Pillow in c:\\users\\admin\\anaconda3\\lib\\site-packages (from sentence-transformers) (10.4.0)\n",
      "Requirement already satisfied: typing_extensions>=4.5.0 in c:\\users\\admin\\anaconda3\\lib\\site-packages (from sentence-transformers) (4.11.0)\n",
      "Requirement already satisfied: filelock in c:\\users\\admin\\anaconda3\\lib\\site-packages (from huggingface-hub>=0.20.0->sentence-transformers) (3.13.1)\n",
      "Requirement already satisfied: fsspec>=2023.5.0 in c:\\users\\admin\\anaconda3\\lib\\site-packages (from huggingface-hub>=0.20.0->sentence-transformers) (2024.6.1)\n",
      "Requirement already satisfied: packaging>=20.9 in c:\\users\\admin\\anaconda3\\lib\\site-packages (from huggingface-hub>=0.20.0->sentence-transformers) (24.1)\n",
      "Requirement already satisfied: pyyaml>=5.1 in c:\\users\\admin\\anaconda3\\lib\\site-packages (from huggingface-hub>=0.20.0->sentence-transformers) (6.0.1)\n",
      "Requirement already satisfied: requests in c:\\users\\admin\\anaconda3\\lib\\site-packages (from huggingface-hub>=0.20.0->sentence-transformers) (2.32.3)\n",
      "Requirement already satisfied: networkx in c:\\users\\admin\\anaconda3\\lib\\site-packages (from torch>=1.11.0->sentence-transformers) (3.3)\n",
      "Requirement already satisfied: jinja2 in c:\\users\\admin\\anaconda3\\lib\\site-packages (from torch>=1.11.0->sentence-transformers) (3.1.4)\n",
      "Requirement already satisfied: setuptools in c:\\users\\admin\\anaconda3\\lib\\site-packages (from torch>=1.11.0->sentence-transformers) (75.1.0)\n",
      "Requirement already satisfied: sympy==1.13.1 in c:\\users\\admin\\anaconda3\\lib\\site-packages (from torch>=1.11.0->sentence-transformers) (1.13.1)\n",
      "Requirement already satisfied: mpmath<1.4,>=1.1.0 in c:\\users\\admin\\anaconda3\\lib\\site-packages (from sympy==1.13.1->torch>=1.11.0->sentence-transformers) (1.3.0)\n",
      "Requirement already satisfied: colorama in c:\\users\\admin\\anaconda3\\lib\\site-packages (from tqdm->sentence-transformers) (0.4.6)\n",
      "Requirement already satisfied: numpy>=1.17 in c:\\users\\admin\\anaconda3\\lib\\site-packages (from transformers<5.0.0,>=4.41.0->sentence-transformers) (1.26.4)\n",
      "Requirement already satisfied: regex!=2019.12.17 in c:\\users\\admin\\anaconda3\\lib\\site-packages (from transformers<5.0.0,>=4.41.0->sentence-transformers) (2024.9.11)\n",
      "Requirement already satisfied: tokenizers<0.22,>=0.21 in c:\\users\\admin\\anaconda3\\lib\\site-packages (from transformers<5.0.0,>=4.41.0->sentence-transformers) (0.21.0)\n",
      "Requirement already satisfied: safetensors>=0.4.1 in c:\\users\\admin\\anaconda3\\lib\\site-packages (from transformers<5.0.0,>=4.41.0->sentence-transformers) (0.5.2)\n",
      "Requirement already satisfied: joblib>=1.1.1 in c:\\users\\admin\\anaconda3\\lib\\site-packages (from scikit-learn->sentence-transformers) (1.4.2)\n",
      "Requirement already satisfied: threadpoolctl>=2.0.0 in c:\\users\\admin\\anaconda3\\lib\\site-packages (from scikit-learn->sentence-transformers) (3.5.0)\n",
      "Requirement already satisfied: MarkupSafe>=2.0 in c:\\users\\admin\\anaconda3\\lib\\site-packages (from jinja2->torch>=1.11.0->sentence-transformers) (2.1.3)\n",
      "Requirement already satisfied: charset-normalizer<4,>=2 in c:\\users\\admin\\anaconda3\\lib\\site-packages (from requests->huggingface-hub>=0.20.0->sentence-transformers) (3.3.2)\n",
      "Requirement already satisfied: idna<4,>=2.5 in c:\\users\\admin\\anaconda3\\lib\\site-packages (from requests->huggingface-hub>=0.20.0->sentence-transformers) (3.7)\n",
      "Requirement already satisfied: urllib3<3,>=1.21.1 in c:\\users\\admin\\anaconda3\\lib\\site-packages (from requests->huggingface-hub>=0.20.0->sentence-transformers) (2.2.3)\n",
      "Requirement already satisfied: certifi>=2017.4.17 in c:\\users\\admin\\anaconda3\\lib\\site-packages (from requests->huggingface-hub>=0.20.0->sentence-transformers) (2025.1.31)\n",
      "Downloading sentence_transformers-5.1.0-py3-none-any.whl (483 kB)\n",
      "Installing collected packages: sentence-transformers\n",
      "Successfully installed sentence-transformers-5.1.0\n",
      "Note: you may need to restart the kernel to use updated packages.\n",
      "WARNING:tensorflow:From c:\\Users\\Admin\\anaconda3\\Lib\\site-packages\\tf_keras\\src\\losses.py:2976: The name tf.losses.sparse_softmax_cross_entropy is deprecated. Please use tf.compat.v1.losses.sparse_softmax_cross_entropy instead.\n",
      "\n"
     ]
    },
    {
     "data": {
      "application/vnd.jupyter.widget-view+json": {
       "model_id": "63bb099f150041d490f1dd697e7e41fe",
       "version_major": 2,
       "version_minor": 0
      },
      "text/plain": [
       "modules.json:   0%|          | 0.00/349 [00:00<?, ?B/s]"
      ]
     },
     "metadata": {},
     "output_type": "display_data"
    },
    {
     "name": "stderr",
     "output_type": "stream",
     "text": [
      "c:\\Users\\Admin\\anaconda3\\Lib\\site-packages\\huggingface_hub\\file_download.py:140: UserWarning: `huggingface_hub` cache-system uses symlinks by default to efficiently store duplicated files but your machine does not support them in C:\\Users\\Admin\\.cache\\huggingface\\hub\\models--sentence-transformers--all-MiniLM-L6-v2. Caching files will still work but in a degraded version that might require more space on your disk. This warning can be disabled by setting the `HF_HUB_DISABLE_SYMLINKS_WARNING` environment variable. For more details, see https://huggingface.co/docs/huggingface_hub/how-to-cache#limitations.\n",
      "To support symlinks on Windows, you either need to activate Developer Mode or to run Python as an administrator. In order to activate developer mode, see this article: https://docs.microsoft.com/en-us/windows/apps/get-started/enable-your-device-for-development\n",
      "  warnings.warn(message)\n"
     ]
    },
    {
     "data": {
      "application/vnd.jupyter.widget-view+json": {
       "model_id": "81afcf633a7c4b5b9f0f85643913cdb1",
       "version_major": 2,
       "version_minor": 0
      },
      "text/plain": [
       "config_sentence_transformers.json:   0%|          | 0.00/116 [00:00<?, ?B/s]"
      ]
     },
     "metadata": {},
     "output_type": "display_data"
    },
    {
     "data": {
      "application/vnd.jupyter.widget-view+json": {
       "model_id": "cdcba92a967e41479057bbd1975a1bfe",
       "version_major": 2,
       "version_minor": 0
      },
      "text/plain": [
       "README.md: 0.00B [00:00, ?B/s]"
      ]
     },
     "metadata": {},
     "output_type": "display_data"
    },
    {
     "data": {
      "application/vnd.jupyter.widget-view+json": {
       "model_id": "a116766c6d614364a9b29d8f57866441",
       "version_major": 2,
       "version_minor": 0
      },
      "text/plain": [
       "sentence_bert_config.json:   0%|          | 0.00/53.0 [00:00<?, ?B/s]"
      ]
     },
     "metadata": {},
     "output_type": "display_data"
    },
    {
     "data": {
      "application/vnd.jupyter.widget-view+json": {
       "model_id": "e120458fe7ed45dbb87971cfcbe3804f",
       "version_major": 2,
       "version_minor": 0
      },
      "text/plain": [
       "config.json:   0%|          | 0.00/612 [00:00<?, ?B/s]"
      ]
     },
     "metadata": {},
     "output_type": "display_data"
    },
    {
     "data": {
      "application/vnd.jupyter.widget-view+json": {
       "model_id": "87e5a42ae42a46c0af8375ea8d5f3035",
       "version_major": 2,
       "version_minor": 0
      },
      "text/plain": [
       "model.safetensors:   0%|          | 0.00/90.9M [00:00<?, ?B/s]"
      ]
     },
     "metadata": {},
     "output_type": "display_data"
    },
    {
     "data": {
      "application/vnd.jupyter.widget-view+json": {
       "model_id": "3d48111dd9dd4a35af4be576da0d6335",
       "version_major": 2,
       "version_minor": 0
      },
      "text/plain": [
       "tokenizer_config.json:   0%|          | 0.00/350 [00:00<?, ?B/s]"
      ]
     },
     "metadata": {},
     "output_type": "display_data"
    },
    {
     "data": {
      "application/vnd.jupyter.widget-view+json": {
       "model_id": "7e2b9b3ecc2646528e318f17a8249594",
       "version_major": 2,
       "version_minor": 0
      },
      "text/plain": [
       "vocab.txt: 0.00B [00:00, ?B/s]"
      ]
     },
     "metadata": {},
     "output_type": "display_data"
    },
    {
     "data": {
      "application/vnd.jupyter.widget-view+json": {
       "model_id": "101cc617e48e487494f006c5f9b332dc",
       "version_major": 2,
       "version_minor": 0
      },
      "text/plain": [
       "tokenizer.json: 0.00B [00:00, ?B/s]"
      ]
     },
     "metadata": {},
     "output_type": "display_data"
    },
    {
     "data": {
      "application/vnd.jupyter.widget-view+json": {
       "model_id": "5e40047ed9374c0891dabecaddb5e034",
       "version_major": 2,
       "version_minor": 0
      },
      "text/plain": [
       "special_tokens_map.json:   0%|          | 0.00/112 [00:00<?, ?B/s]"
      ]
     },
     "metadata": {},
     "output_type": "display_data"
    },
    {
     "data": {
      "application/vnd.jupyter.widget-view+json": {
       "model_id": "a5a760a6f553426c82fb2bad54312a9b",
       "version_major": 2,
       "version_minor": 0
      },
      "text/plain": [
       "config.json:   0%|          | 0.00/190 [00:00<?, ?B/s]"
      ]
     },
     "metadata": {},
     "output_type": "display_data"
    },
    {
     "name": "stderr",
     "output_type": "stream",
     "text": [
      "2025-09-14 23:15:12.148 \n",
      "  \u001b[33m\u001b[1mWarning:\u001b[0m to view this Streamlit app on a browser, run it with the following\n",
      "  command:\n",
      "\n",
      "    streamlit run c:\\Users\\Admin\\anaconda3\\Lib\\site-packages\\ipykernel_launcher.py [ARGUMENTS]\n",
      "2025-09-14 23:15:12.148 Session state does not function when running a script without `streamlit run`\n"
     ]
    }
   ],
   "source": [
    "%pip install sentence-transformers\n",
    "\n",
    "import streamlit as st\n",
    "import pandas as pd\n",
    "from sentence_transformers import SentenceTransformer, util\n",
    "\n",
    "# Load dataset\n",
    "df = pd.read_csv(\"E:\\Final_Project\\insurance\\Scripts\\insurance_faq.csv\")\n",
    "\n",
    "# Load embedding model\n",
    "model = SentenceTransformer(\"all-MiniLM-L6-v2\")\n",
    "\n",
    "# Precompute embeddings\n",
    "questions = df[\"question\"].tolist()\n",
    "answers = df[\"answer\"].tolist()\n",
    "question_embeddings = model.encode(questions, convert_to_tensor=True)\n",
    "\n",
    "# Streamlit UI\n",
    "st.title(\"🏦 Insurance Chatbot\")\n",
    "st.write(\"Ask me anything about insurance!\")\n",
    "\n",
    "user_input = st.text_input(\"You:\")\n",
    "\n",
    "if user_input:\n",
    "    user_embedding = model.encode(user_input, convert_to_tensor=True)\n",
    "    scores = util.pytorch_cos_sim(user_embedding, question_embeddings)[0]\n",
    "    best_match_idx = int(scores.argmax())\n",
    "    st.markdown(f\"🤖 **Bot:** {answers[best_match_idx]}\")\n"
   ]
  }
 ],
 "metadata": {
  "kernelspec": {
   "display_name": "base",
   "language": "python",
   "name": "python3"
  },
  "language_info": {
   "codemirror_mode": {
    "name": "ipython",
    "version": 3
   },
   "file_extension": ".py",
   "mimetype": "text/x-python",
   "name": "python",
   "nbconvert_exporter": "python",
   "pygments_lexer": "ipython3",
   "version": "3.12.7"
  }
 },
 "nbformat": 4,
 "nbformat_minor": 5
}
